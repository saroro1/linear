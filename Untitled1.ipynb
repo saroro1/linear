{
  "nbformat": 4,
  "nbformat_minor": 0,
  "metadata": {
    "colab": {
      "name": "Untitled1.ipynb",
      "provenance": [],
      "authorship_tag": "ABX9TyPiAmUOAhTl5S/8XCem3TVN",
      "include_colab_link": true
    },
    "kernelspec": {
      "name": "python3",
      "display_name": "Python 3"
    },
    "language_info": {
      "name": "python"
    }
  },
  "cells": [
    {
      "cell_type": "markdown",
      "metadata": {
        "id": "view-in-github",
        "colab_type": "text"
      },
      "source": [
        "<a href=\"https://colab.research.google.com/github/saroro1/linear/blob/main/Untitled1.ipynb\" target=\"_parent\"><img src=\"https://colab.research.google.com/assets/colab-badge.svg\" alt=\"Open In Colab\"/></a>"
      ]
    },
    {
      "cell_type": "code",
      "metadata": {
        "id": "ITyqxGK9-0v_"
      },
      "source": [
        "import numpy as np\n",
        "A = np.array([[0,1,-2.3,0.1], [1.3,4,-0.1,1],[4.1,-1,0,1.7]])"
      ],
      "execution_count": 4,
      "outputs": []
    },
    {
      "cell_type": "code",
      "metadata": {
        "colab": {
          "base_uri": "https://localhost:8080/"
        },
        "id": "zpjYYh77_HPk",
        "outputId": "7ff5c471-4987-45d1-ecdd-c7532b9a5d41"
      },
      "source": [
        "A.shape"
      ],
      "execution_count": 5,
      "outputs": [
        {
          "output_type": "execute_result",
          "data": {
            "text/plain": [
              "(3, 4)"
            ]
          },
          "metadata": {},
          "execution_count": 5
        }
      ]
    },
    {
      "cell_type": "code",
      "metadata": {
        "colab": {
          "base_uri": "https://localhost:8080/"
        },
        "id": "CTyc2sWW_NoC",
        "outputId": "0a216e54-1fa3-4120-c70c-85589bf84720"
      },
      "source": [
        "m,n = A.shape;\n",
        "print(\"# of rows \",m);\n",
        "print(\"# of cols \",n);"
      ],
      "execution_count": 6,
      "outputs": [
        {
          "output_type": "stream",
          "name": "stdout",
          "text": [
            "# of rows  3\n",
            "# of cols  4\n"
          ]
        }
      ]
    },
    {
      "cell_type": "code",
      "metadata": {
        "id": "Vm-cVLDd_6ij"
      },
      "source": [
        "tall = lambda X: A.shape[0] > A.shape[1]"
      ],
      "execution_count": 7,
      "outputs": []
    },
    {
      "cell_type": "code",
      "metadata": {
        "id": "6LaQKFrUAXpi"
      },
      "source": [
        "wide = lambda X: A.shape[0] < A.shape[1]"
      ],
      "execution_count": 10,
      "outputs": []
    },
    {
      "cell_type": "code",
      "metadata": {
        "colab": {
          "base_uri": "https://localhost:8080/"
        },
        "id": "9Fz9ssUbABYI",
        "outputId": "6a13bf85-7d11-4b29-f2c7-0595173cd30b"
      },
      "source": [
        "tall(A)"
      ],
      "execution_count": 8,
      "outputs": [
        {
          "output_type": "execute_result",
          "data": {
            "text/plain": [
              "False"
            ]
          },
          "metadata": {},
          "execution_count": 8
        }
      ]
    },
    {
      "cell_type": "code",
      "metadata": {
        "colab": {
          "base_uri": "https://localhost:8080/"
        },
        "id": "B2SEiSbAAdb3",
        "outputId": "a9e7f768-7763-4480-adeb-a3778ee09838"
      },
      "source": [
        "wide(A)"
      ],
      "execution_count": 11,
      "outputs": [
        {
          "output_type": "execute_result",
          "data": {
            "text/plain": [
              "True"
            ]
          },
          "metadata": {},
          "execution_count": 11
        }
      ]
    },
    {
      "cell_type": "code",
      "metadata": {
        "colab": {
          "base_uri": "https://localhost:8080/"
        },
        "id": "p1dmySHwA6lN",
        "outputId": "f3a9caef-6bec-4c59-f868-5540aab492a9"
      },
      "source": [
        "A[0,2]"
      ],
      "execution_count": 12,
      "outputs": [
        {
          "output_type": "execute_result",
          "data": {
            "text/plain": [
              "-2.3"
            ]
          },
          "metadata": {},
          "execution_count": 12
        }
      ]
    },
    {
      "cell_type": "code",
      "metadata": {
        "id": "sqvHJNG-A84o"
      },
      "source": [
        "A[0,2] = 7.5"
      ],
      "execution_count": 13,
      "outputs": []
    },
    {
      "cell_type": "code",
      "metadata": {
        "colab": {
          "base_uri": "https://localhost:8080/"
        },
        "id": "VwXMz916BBV-",
        "outputId": "546537ab-b223-4d1e-c021-afb4df09f747"
      },
      "source": [
        "A"
      ],
      "execution_count": 14,
      "outputs": [
        {
          "output_type": "execute_result",
          "data": {
            "text/plain": [
              "array([[ 0. ,  1. ,  7.5,  0.1],\n",
              "       [ 1.3,  4. , -0.1,  1. ],\n",
              "       [ 4.1, -1. ,  0. ,  1.7]])"
            ]
          },
          "metadata": {},
          "execution_count": 14
        }
      ]
    },
    {
      "cell_type": "code",
      "metadata": {
        "id": "oXnV3NZNBmbv"
      },
      "source": [
        "A = np.array([[0,1,-2.3,0.1], [1.3,4,-0.1,1],[4.1,-1,0,1.7]])"
      ],
      "execution_count": 15,
      "outputs": []
    },
    {
      "cell_type": "code",
      "metadata": {
        "colab": {
          "base_uri": "https://localhost:8080/"
        },
        "id": "sxEghhBsBrM8",
        "outputId": "ca8157e7-6c71-4b8b-d56e-329f8774ed8f"
      },
      "source": [
        "B = A.copy()\n",
        "print(A == B)\n",
        "print(np.sum(A==B))"
      ],
      "execution_count": 16,
      "outputs": [
        {
          "output_type": "stream",
          "name": "stdout",
          "text": [
            "[[ True  True  True  True]\n",
            " [ True  True  True  True]\n",
            " [ True  True  True  True]]\n",
            "12\n"
          ]
        }
      ]
    },
    {
      "cell_type": "code",
      "metadata": {
        "colab": {
          "base_uri": "https://localhost:8080/"
        },
        "id": "FBqZBp5hB4CQ",
        "outputId": "f6a09f04-0bc8-4379-e34a-f2e076a48948"
      },
      "source": [
        "B[0,3] = 77\n",
        "print(A == B)\n",
        "print(np.sum(A==B))"
      ],
      "execution_count": 17,
      "outputs": [
        {
          "output_type": "stream",
          "name": "stdout",
          "text": [
            "[[ True  True  True False]\n",
            " [ True  True  True  True]\n",
            " [ True  True  True  True]]\n",
            "11\n"
          ]
        }
      ]
    },
    {
      "cell_type": "code",
      "metadata": {
        "id": "hc1XodJqDg0Y"
      },
      "source": [
        "A = np.array([[-1, 0, 1, 0],[2, -3, 0, 1],[0, 4, -2, 1]])"
      ],
      "execution_count": 18,
      "outputs": []
    },
    {
      "cell_type": "code",
      "metadata": {
        "colab": {
          "base_uri": "https://localhost:8080/"
        },
        "id": "-QMqm45dDoK_",
        "outputId": "afe3d104-bd0e-4fee-dfd9-cdbb8d801dfb"
      },
      "source": [
        "A[0:2, 2:4]"
      ],
      "execution_count": 19,
      "outputs": [
        {
          "output_type": "execute_result",
          "data": {
            "text/plain": [
              "array([[1, 0],\n",
              "       [0, 1]])"
            ]
          },
          "metadata": {},
          "execution_count": 19
        }
      ]
    },
    {
      "cell_type": "code",
      "metadata": {
        "colab": {
          "base_uri": "https://localhost:8080/"
        },
        "id": "_QwEpHoxD4tc",
        "outputId": "0e46dc9e-971e-4dfa-b213-07e3df47bce5"
      },
      "source": [
        "A[:3,2:3]"
      ],
      "execution_count": 20,
      "outputs": [
        {
          "output_type": "execute_result",
          "data": {
            "text/plain": [
              "array([[ 1],\n",
              "       [ 0],\n",
              "       [-2]])"
            ]
          },
          "metadata": {},
          "execution_count": 20
        }
      ]
    },
    {
      "cell_type": "code",
      "metadata": {
        "colab": {
          "base_uri": "https://localhost:8080/"
        },
        "id": "I22kq7ZZEXaN",
        "outputId": "137d8389-6c45-4fe9-b85c-04972ca8d2cb"
      },
      "source": [
        "A[:,2]"
      ],
      "execution_count": 21,
      "outputs": [
        {
          "output_type": "execute_result",
          "data": {
            "text/plain": [
              "array([ 1,  0, -2])"
            ]
          },
          "metadata": {},
          "execution_count": 21
        }
      ]
    },
    {
      "cell_type": "code",
      "metadata": {
        "colab": {
          "base_uri": "https://localhost:8080/"
        },
        "id": "_I63oAjxEiZh",
        "outputId": "d0ea0e4f-0294-4619-b2f4-1dc1daca795d"
      },
      "source": [
        "A[1,:]"
      ],
      "execution_count": 22,
      "outputs": [
        {
          "output_type": "execute_result",
          "data": {
            "text/plain": [
              "array([ 2, -3,  0,  1])"
            ]
          },
          "metadata": {},
          "execution_count": 22
        }
      ]
    },
    {
      "cell_type": "code",
      "metadata": {
        "colab": {
          "base_uri": "https://localhost:8080/"
        },
        "id": "ohTGbh3KEoOk",
        "outputId": "8dba67a0-30db-42d0-d22e-3b046b1e1129"
      },
      "source": [
        "A[1,]"
      ],
      "execution_count": 24,
      "outputs": [
        {
          "output_type": "execute_result",
          "data": {
            "text/plain": [
              "array([ 2, -3,  0,  1])"
            ]
          },
          "metadata": {},
          "execution_count": 24
        }
      ]
    },
    {
      "cell_type": "code",
      "metadata": {
        "colab": {
          "base_uri": "https://localhost:8080/"
        },
        "id": "mqtq7Cd_FJx1",
        "outputId": "72313967-e902-46a0-d744-656e83777549"
      },
      "source": [
        "A.reshape(6,2)"
      ],
      "execution_count": 25,
      "outputs": [
        {
          "output_type": "execute_result",
          "data": {
            "text/plain": [
              "array([[-1,  0],\n",
              "       [ 1,  0],\n",
              "       [ 2, -3],\n",
              "       [ 0,  1],\n",
              "       [ 0,  4],\n",
              "       [-2,  1]])"
            ]
          },
          "metadata": {},
          "execution_count": 25
        }
      ]
    },
    {
      "cell_type": "code",
      "metadata": {
        "colab": {
          "base_uri": "https://localhost:8080/"
        },
        "id": "47IHwqMWFQxF",
        "outputId": "5d2734c7-61e8-4843-fbe8-149c2015f6bd"
      },
      "source": [
        "A.reshape(1,12)"
      ],
      "execution_count": 26,
      "outputs": [
        {
          "output_type": "execute_result",
          "data": {
            "text/plain": [
              "array([[-1,  0,  1,  0,  2, -3,  0,  1,  0,  4, -2,  1]])"
            ]
          },
          "metadata": {},
          "execution_count": 26
        }
      ]
    },
    {
      "cell_type": "code",
      "metadata": {
        "colab": {
          "base_uri": "https://localhost:8080/",
          "height": 172
        },
        "id": "bAxCntPWFVJt",
        "outputId": "37bd17d8-ab22-4167-d124-fe78be1c8c0b"
      },
      "source": [
        "A.reshape(12,12)"
      ],
      "execution_count": 27,
      "outputs": [
        {
          "output_type": "error",
          "ename": "ValueError",
          "evalue": "ignored",
          "traceback": [
            "\u001b[0;31m---------------------------------------------------------------------------\u001b[0m",
            "\u001b[0;31mValueError\u001b[0m                                Traceback (most recent call last)",
            "\u001b[0;32m<ipython-input-27-ffcb7e53dd1d>\u001b[0m in \u001b[0;36m<module>\u001b[0;34m()\u001b[0m\n\u001b[0;32m----> 1\u001b[0;31m \u001b[0mA\u001b[0m\u001b[0;34m.\u001b[0m\u001b[0mreshape\u001b[0m\u001b[0;34m(\u001b[0m\u001b[0;36m12\u001b[0m\u001b[0;34m,\u001b[0m\u001b[0;36m12\u001b[0m\u001b[0;34m)\u001b[0m\u001b[0;34m\u001b[0m\u001b[0;34m\u001b[0m\u001b[0m\n\u001b[0m",
            "\u001b[0;31mValueError\u001b[0m: cannot reshape array of size 12 into shape (12,12)"
          ]
        }
      ]
    },
    {
      "cell_type": "code",
      "metadata": {
        "colab": {
          "base_uri": "https://localhost:8080/"
        },
        "id": "mOmo8ZDxF6NJ",
        "outputId": "87547de3-c916-4085-dc34-d63668f05bcc"
      },
      "source": [
        "B = np.array([0,2,3])\n",
        "C = np.array([-1]) \n",
        "D = np.array([[2,2,1],[1,3,5]]) \n",
        "E = np.array([[4],[4]]) \n",
        "A = np.block([[B,C],[D,E]])\n",
        "print(A)"
      ],
      "execution_count": 32,
      "outputs": [
        {
          "output_type": "stream",
          "name": "stdout",
          "text": [
            "[[ 0  2  3 -1]\n",
            " [ 2  2  1  4]\n",
            " [ 1  3  5  4]]\n"
          ]
        }
      ]
    },
    {
      "cell_type": "code",
      "metadata": {
        "colab": {
          "base_uri": "https://localhost:8080/"
        },
        "id": "lS1aF-SPGjWN",
        "outputId": "19a6ecc4-6402-48ef-eec4-17fb9916efad"
      },
      "source": [
        "a = [1,2]\n",
        "b = [4,5]\n",
        "c = [7,8]\n",
        "A = np.vstack([a,b,c])\n",
        "B = np.hstack([a,b,c])\n",
        "print(A)\n",
        "print(B)"
      ],
      "execution_count": 33,
      "outputs": [
        {
          "output_type": "stream",
          "name": "stdout",
          "text": [
            "[[1 2]\n",
            " [4 5]\n",
            " [7 8]]\n",
            "[1 2 4 5 7 8]\n"
          ]
        }
      ]
    },
    {
      "cell_type": "code",
      "metadata": {
        "colab": {
          "base_uri": "https://localhost:8080/",
          "height": 172
        },
        "id": "ZRAjGHBtI6JK",
        "outputId": "313c4e72-0a46-47e7-8f28-b03bcb89e96d"
      },
      "source": [
        "np.zeros(4,3)"
      ],
      "execution_count": 34,
      "outputs": [
        {
          "output_type": "error",
          "ename": "TypeError",
          "evalue": "ignored",
          "traceback": [
            "\u001b[0;31m---------------------------------------------------------------------------\u001b[0m",
            "\u001b[0;31mTypeError\u001b[0m                                 Traceback (most recent call last)",
            "\u001b[0;32m<ipython-input-34-41abff32c857>\u001b[0m in \u001b[0;36m<module>\u001b[0;34m()\u001b[0m\n\u001b[0;32m----> 1\u001b[0;31m \u001b[0mnp\u001b[0m\u001b[0;34m.\u001b[0m\u001b[0mzeros\u001b[0m\u001b[0;34m(\u001b[0m\u001b[0;36m4\u001b[0m\u001b[0;34m,\u001b[0m\u001b[0;36m3\u001b[0m\u001b[0;34m)\u001b[0m\u001b[0;34m\u001b[0m\u001b[0;34m\u001b[0m\u001b[0m\n\u001b[0m",
            "\u001b[0;31mTypeError\u001b[0m: Cannot interpret '3' as a data type"
          ]
        }
      ]
    },
    {
      "cell_type": "code",
      "metadata": {
        "colab": {
          "base_uri": "https://localhost:8080/"
        },
        "id": "IT72hwYjJHaP",
        "outputId": "1867f499-d0d8-4e97-b40b-e85f1a0a20e6"
      },
      "source": [
        "np.zeros((4,3))"
      ],
      "execution_count": 36,
      "outputs": [
        {
          "output_type": "execute_result",
          "data": {
            "text/plain": [
              "array([[0., 0., 0.],\n",
              "       [0., 0., 0.],\n",
              "       [0., 0., 0.],\n",
              "       [0., 0., 0.]])"
            ]
          },
          "metadata": {},
          "execution_count": 36
        }
      ]
    },
    {
      "cell_type": "code",
      "metadata": {
        "colab": {
          "base_uri": "https://localhost:8080/",
          "height": 172
        },
        "id": "8sRY53bzJMVI",
        "outputId": "825e4aa4-54a0-4a2f-cc92-82d7b9f60e75"
      },
      "source": [
        "np.zeros((4,-3))"
      ],
      "execution_count": 37,
      "outputs": [
        {
          "output_type": "error",
          "ename": "ValueError",
          "evalue": "ignored",
          "traceback": [
            "\u001b[0;31m---------------------------------------------------------------------------\u001b[0m",
            "\u001b[0;31mValueError\u001b[0m                                Traceback (most recent call last)",
            "\u001b[0;32m<ipython-input-37-2ce7c4af967f>\u001b[0m in \u001b[0;36m<module>\u001b[0;34m()\u001b[0m\n\u001b[0;32m----> 1\u001b[0;31m \u001b[0mnp\u001b[0m\u001b[0;34m.\u001b[0m\u001b[0mzeros\u001b[0m\u001b[0;34m(\u001b[0m\u001b[0;34m(\u001b[0m\u001b[0;36m4\u001b[0m\u001b[0;34m,\u001b[0m\u001b[0;34m-\u001b[0m\u001b[0;36m3\u001b[0m\u001b[0;34m)\u001b[0m\u001b[0;34m)\u001b[0m\u001b[0;34m\u001b[0m\u001b[0;34m\u001b[0m\u001b[0m\n\u001b[0m",
            "\u001b[0;31mValueError\u001b[0m: negative dimensions are not allowed"
          ]
        }
      ]
    },
    {
      "cell_type": "code",
      "metadata": {
        "colab": {
          "base_uri": "https://localhost:8080/"
        },
        "id": "nggxrMpiJOzg",
        "outputId": "0c5cb87a-d7d4-46e7-fb79-a067363b5fa8"
      },
      "source": [
        "np.identity(4)"
      ],
      "execution_count": 38,
      "outputs": [
        {
          "output_type": "execute_result",
          "data": {
            "text/plain": [
              "array([[1., 0., 0., 0.],\n",
              "       [0., 1., 0., 0.],\n",
              "       [0., 0., 1., 0.],\n",
              "       [0., 0., 0., 1.]])"
            ]
          },
          "metadata": {},
          "execution_count": 38
        }
      ]
    },
    {
      "cell_type": "code",
      "metadata": {
        "colab": {
          "base_uri": "https://localhost:8080/"
        },
        "id": "4MWnJQABJUHw",
        "outputId": "770c88c6-30e2-47db-ac12-06d901657e4c"
      },
      "source": [
        "x = np.array([[0,1,2],[3,4,5],[6,7,8]])\n",
        "v = np.diag(x)\n",
        "v"
      ],
      "execution_count": 40,
      "outputs": [
        {
          "output_type": "execute_result",
          "data": {
            "text/plain": [
              "array([0, 4, 8])"
            ]
          },
          "metadata": {},
          "execution_count": 40
        }
      ]
    },
    {
      "cell_type": "code",
      "metadata": {
        "colab": {
          "base_uri": "https://localhost:8080/"
        },
        "id": "5a8JTjQEJeh3",
        "outputId": "948e1a0e-49f0-403e-dc84-8f4853cb419a"
      },
      "source": [
        "print(np.diag(v))"
      ],
      "execution_count": 41,
      "outputs": [
        {
          "output_type": "stream",
          "name": "stdout",
          "text": [
            "[[0 0 0]\n",
            " [0 4 0]\n",
            " [0 0 8]]\n"
          ]
        }
      ]
    },
    {
      "cell_type": "code",
      "metadata": {
        "colab": {
          "base_uri": "https://localhost:8080/"
        },
        "id": "rPQICwnoJiQs",
        "outputId": "24410edb-1c0b-46a3-af66-a5486ce235f8"
      },
      "source": [
        "np.random.random((3,4))"
      ],
      "execution_count": 42,
      "outputs": [
        {
          "output_type": "execute_result",
          "data": {
            "text/plain": [
              "array([[0.65657573, 0.62013895, 0.45790972, 0.07412856],\n",
              "       [0.98488671, 0.77825205, 0.41143406, 0.38291893],\n",
              "       [0.92123522, 0.61139066, 0.32026587, 0.15759119]])"
            ]
          },
          "metadata": {},
          "execution_count": 42
        }
      ]
    },
    {
      "cell_type": "code",
      "metadata": {
        "colab": {
          "base_uri": "https://localhost:8080/"
        },
        "id": "xDdS5IHgJlvn",
        "outputId": "51855a89-dfc8-431b-fd2e-c4d2bc94a425"
      },
      "source": [
        "np.random.random((3,4))"
      ],
      "execution_count": 43,
      "outputs": [
        {
          "output_type": "execute_result",
          "data": {
            "text/plain": [
              "array([[0.45105384, 0.48041271, 0.08057665, 0.11809771],\n",
              "       [0.07386846, 0.11337637, 0.41585696, 0.55693648],\n",
              "       [0.05558785, 0.73336239, 0.94015834, 0.81923907]])"
            ]
          },
          "metadata": {},
          "execution_count": 43
        }
      ]
    },
    {
      "cell_type": "code",
      "metadata": {
        "colab": {
          "base_uri": "https://localhost:8080/"
        },
        "id": "oino6T27JoCr",
        "outputId": "214718d5-94d8-46c8-caec-a30b99317d04"
      },
      "source": [
        "np.random.rand(3,4)"
      ],
      "execution_count": 46,
      "outputs": [
        {
          "output_type": "execute_result",
          "data": {
            "text/plain": [
              "array([[0.75332948, 0.01979976, 0.97231954, 0.88124605],\n",
              "       [0.54773154, 0.3183195 , 0.38959137, 0.22374354],\n",
              "       [0.1107149 , 0.21973805, 0.181059  , 0.63835508]])"
            ]
          },
          "metadata": {},
          "execution_count": 46
        }
      ]
    },
    {
      "cell_type": "code",
      "metadata": {
        "colab": {
          "base_uri": "https://localhost:8080/"
        },
        "id": "v5gPvRquMDLZ",
        "outputId": "3c75ad4f-fe99-4930-905a-659f7450f6d5"
      },
      "source": [
        "H = np.array([[0,1,-2,1],[2,-1,3,0]])\n",
        "H"
      ],
      "execution_count": 49,
      "outputs": [
        {
          "output_type": "execute_result",
          "data": {
            "text/plain": [
              "array([[ 0,  1, -2,  1],\n",
              "       [ 2, -1,  3,  0]])"
            ]
          },
          "metadata": {},
          "execution_count": 49
        }
      ]
    },
    {
      "cell_type": "code",
      "metadata": {
        "colab": {
          "base_uri": "https://localhost:8080/"
        },
        "id": "IdIkx53cMRDs",
        "outputId": "633a1758-df97-463a-bc36-217ed9740790"
      },
      "source": [
        "H.T"
      ],
      "execution_count": 50,
      "outputs": [
        {
          "output_type": "execute_result",
          "data": {
            "text/plain": [
              "array([[ 0,  2],\n",
              "       [ 1, -1],\n",
              "       [-2,  3],\n",
              "       [ 1,  0]])"
            ]
          },
          "metadata": {},
          "execution_count": 50
        }
      ]
    },
    {
      "cell_type": "code",
      "metadata": {
        "colab": {
          "base_uri": "https://localhost:8080/"
        },
        "id": "UiWjU0wSMSPw",
        "outputId": "657bc0f8-7190-4509-b606-9e09f9bd8d75"
      },
      "source": [
        "np.transpose(H)"
      ],
      "execution_count": 51,
      "outputs": [
        {
          "output_type": "execute_result",
          "data": {
            "text/plain": [
              "array([[ 0,  2],\n",
              "       [ 1, -1],\n",
              "       [-2,  3],\n",
              "       [ 1,  0]])"
            ]
          },
          "metadata": {},
          "execution_count": 51
        }
      ]
    },
    {
      "cell_type": "code",
      "metadata": {
        "colab": {
          "base_uri": "https://localhost:8080/"
        },
        "id": "2-UaCbvXMVCP",
        "outputId": "462efd27-b99a-4e08-a70a-6824bb7b2320"
      },
      "source": [
        "U = np.array([[0,4],[7,0],[3,1]])\n",
        "V = np.array([[1,2],[2,3],[0,4]])\n",
        "print(U+V)"
      ],
      "execution_count": 53,
      "outputs": [
        {
          "output_type": "stream",
          "name": "stdout",
          "text": [
            "[[1 6]\n",
            " [9 3]\n",
            " [3 5]]\n"
          ]
        }
      ]
    },
    {
      "cell_type": "code",
      "metadata": {
        "colab": {
          "base_uri": "https://localhost:8080/"
        },
        "id": "md4OB6QKMeL2",
        "outputId": "0733ff44-d29f-44a8-f63c-a46c34783ea6"
      },
      "source": [
        "2.2*U"
      ],
      "execution_count": 54,
      "outputs": [
        {
          "output_type": "execute_result",
          "data": {
            "text/plain": [
              "array([[ 0. ,  8.8],\n",
              "       [15.4,  0. ],\n",
              "       [ 6.6,  2.2]])"
            ]
          },
          "metadata": {},
          "execution_count": 54
        }
      ]
    },
    {
      "cell_type": "code",
      "metadata": {
        "colab": {
          "base_uri": "https://localhost:8080/"
        },
        "id": "9ibV9-udMlMA",
        "outputId": "c5a014f8-e8e2-4f1f-ade6-c1276dd91605"
      },
      "source": [
        "A = np.array([[12,13,-11],[10,-11,34]])\n",
        "np.linalg.norm(A)"
      ],
      "execution_count": 55,
      "outputs": [
        {
          "output_type": "execute_result",
          "data": {
            "text/plain": [
              "42.555845661906424"
            ]
          },
          "metadata": {},
          "execution_count": 55
        }
      ]
    },
    {
      "cell_type": "code",
      "metadata": {
        "colab": {
          "base_uri": "https://localhost:8080/"
        },
        "id": "tqg-hXx8Mtg0",
        "outputId": "17f7f2eb-78e5-4e40-fdd5-6961245a104b"
      },
      "source": [
        "A = np.array([[0,2,-1],[-2,1,1]])\n",
        "x = np.array([2,1,-1])\n",
        "A @ x"
      ],
      "execution_count": 56,
      "outputs": [
        {
          "output_type": "execute_result",
          "data": {
            "text/plain": [
              "array([ 3, -4])"
            ]
          },
          "metadata": {},
          "execution_count": 56
        }
      ]
    },
    {
      "cell_type": "code",
      "metadata": {
        "id": "kYxYeDQwNimQ"
      },
      "source": [
        "Rot = lambda theta: [[np.cos(theta), -np.sin(theta)],\n",
        "[np.sin(theta), np.cos(theta)]]\n",
        "R = Rot(np.pi/3)"
      ],
      "execution_count": 65,
      "outputs": []
    },
    {
      "cell_type": "code",
      "metadata": {
        "id": "4j9IfZ2hOJxh"
      },
      "source": [
        "points =  np.array([[1,0],[1.5,0],[2,0],[1,0.25],[1.5,0.25],[1,0.5]])"
      ],
      "execution_count": 66,
      "outputs": []
    },
    {
      "cell_type": "code",
      "metadata": {
        "id": "7QJeFGo4OW9-"
      },
      "source": [
        "rpoints = np.array([R @ p for p in points])\n"
      ],
      "execution_count": 67,
      "outputs": []
    },
    {
      "cell_type": "code",
      "metadata": {
        "colab": {
          "base_uri": "https://localhost:8080/",
          "height": 265
        },
        "id": "7ZwAMRsNQjvy",
        "outputId": "e466eb0d-eeef-4d38-a3b7-f7a6d13bae68"
      },
      "source": [
        "import matplotlib.pyplot as plt\n",
        "plt.ion()\n",
        "plt.scatter([c[0] for c in points], [c[1] for c in points])\n",
        "plt.scatter([c[0] for c in rpoints],[c[1] for c in rpoints])\n",
        "plt.show()\n"
      ],
      "execution_count": 68,
      "outputs": [
        {
          "output_type": "display_data",
          "data": {
            "image/png": "[encoded data removed]",
            "text/plain": [
              "<Figure size 432x288 with 1 Axes>"
            ]
          },
          "metadata": {
            "needs_background": "light"
          }
        }
      ]
    }
  ]
}